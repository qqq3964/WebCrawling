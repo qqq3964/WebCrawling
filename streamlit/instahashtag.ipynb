{
 "cells": [
  {
   "cell_type": "code",
   "execution_count": 35,
   "metadata": {
    "colab": {
     "base_uri": "https://localhost:8080/",
     "height": 390
    },
    "executionInfo": {
     "elapsed": 18,
     "status": "error",
     "timestamp": 1673259366493,
     "user": {
      "displayName": "김소영",
      "userId": "03949757662449189055"
     },
     "user_tz": -540
    },
    "id": "o-dtkxPQAdz8",
    "outputId": "8057ac8a-56dd-4548-a258-fef32f34f4ce"
   },
   "outputs": [],
   "source": [
    "from selenium import webdriver\n",
    "from bs4 import BeautifulSoup\n",
    "from selenium.webdriver.common.keys import Keys\n",
    "import time\n",
    "import pandas as pd\n",
    "import re"
   ]
  },
  {
   "cell_type": "code",
   "execution_count": 36,
   "metadata": {},
   "outputs": [],
   "source": [
    "# pip install selenium"
   ]
  },
  {
   "cell_type": "code",
   "execution_count": 40,
   "metadata": {},
   "outputs": [
    {
     "name": "stderr",
     "output_type": "stream",
     "text": [
      "C:\\Users\\007\\AppData\\Local\\Temp\\ipykernel_14284\\3922856736.py:4: DeprecationWarning: executable_path has been deprecated, please pass in a Service object\n",
      "  driver = webdriver.Chrome('chromedriver.exe')\n"
     ]
    }
   ],
   "source": [
    "user_id = 'qqq3964@naver.com'# 아이디\n",
    "user_pw = 'asdfg159@'# 비밀번호\n",
    "\n",
    "driver = webdriver.Chrome('chromedriver.exe')\n",
    "driver.implicitly_wait(2)\n",
    "driver.get('https://www.instagram.com/')"
   ]
  },
  {
   "cell_type": "code",
   "execution_count": 41,
   "metadata": {},
   "outputs": [],
   "source": [
    "from selenium.webdriver.common.by import By"
   ]
  },
  {
   "cell_type": "code",
   "execution_count": 42,
   "metadata": {},
   "outputs": [],
   "source": [
    "# 로그인 정보 입력\n",
    "driver.find_element(By.NAME, 'username').send_keys(user_id)\n",
    "time.sleep(3)\n",
    "driver.find_element(By.NAME, 'password').send_keys(user_pw)\n",
    "time.sleep(3)\n",
    "\n",
    "# 로그인 버튼 누르기 - 참고!\n",
    "driver.find_element(By.NAME,'password').send_keys(Keys.ENTER)\n",
    "driver.implicitly_wait(5)\n",
    "# 설정 나중에 하기 버튼 누르기 - 참고!\n",
    "try :\n",
    "    driver.find_element(By.CLASS_NAME,'_ac8f').click()\n",
    "    driver.implicitly_wait(5)\n",
    "# 나중에하기 2번버튼 (알림설정)\n",
    "except :\n",
    "    pass\n",
    "driver.find_element(By.CSS_SELECTOR,'button._a9--._a9_1').click()\n",
    "time.sleep(3)"
   ]
  },
  {
   "attachments": {
    "67bcd1a9-b4a1-4aa0-9f2a-f64f277c8ed3.png": {
     "image/png": "[encoded data removed]"
    }
   },
   "cell_type": "markdown",
   "metadata": {},
   "source": [
    "![image.png](attachment:67bcd1a9-b4a1-4aa0-9f2a-f64f277c8ed3.png)\n",
    "이런식으로 코드를 띄어쓰기일때 작성해야함  _aaqg _aaqh 이렇게 되어있는걸 저런식으로해야함"
   ]
  },
  {
   "cell_type": "code",
   "execution_count": 116,
   "metadata": {
    "executionInfo": {
     "elapsed": 14,
     "status": "aborted",
     "timestamp": 1673259366496,
     "user": {
      "displayName": "김소영",
      "userId": "03949757662449189055"
     },
     "user_tz": -540
    },
    "id": "sG0Gwndn_guZ"
   },
   "outputs": [],
   "source": [
    "# F12 를 눌러서 확인한다. HTML 들어가서 확인\n",
    "\n",
    "# 따라서 특정 검색어에 따른 주소\n",
    "def insta_searching(word):\n",
    "    url = \"https://www.instagram.com/explore/tags/\" + word\n",
    "    return url\n",
    "\n",
    "\n",
    "# 첫 번째 페이지 클릭\n",
    "def select_first(driver):\n",
    "    first = driver.find_element(\n",
    "        By.CSS_SELECTOR,'div._aagw')\n",
    "\n",
    "    first.click()\n",
    "    time.sleep(3)\n",
    "\n",
    "\n",
    "# 다음 페이지로 넘어가는 코드\n",
    "def move_next(driver):\n",
    "    right = driver.find_element(\n",
    "        By.CSS_SELECTOR,'div._aaqg._aaqh')\n",
    "    time.sleep(3)\n",
    "    right.click()\n",
    "    time.sleep(3)\n",
    "\n",
    "\n",
    "# 정보 저장\n",
    "def get_content(driver):\n",
    "    html = driver.page_source\n",
    "    # BeautifulSoup은 html과 xml 문서를 parsing 하기 위한 패키지로 html에서 데이터를 추출하는 데 유용한 구문 분석트리를 생성함.\n",
    "    soup = BeautifulSoup(html, 'html.parser')\n",
    "    # 본문 내용\n",
    "    try:\n",
    "        # > 는 바로아래있는 태그로 가는거고 띄어쓰기는 그 태그 안에 것들\n",
    "        content = soup.select('div._a9zr div._a9zs span a')[0].text\n",
    "        tag = re.findall(r'#[가-힣]+', content)\n",
    "        hashtag = ' '.join(tag)\n",
    "    except:\n",
    "        content = ' '\n",
    "\n",
    "    return hashtag"
   ]
  },
  {
   "cell_type": "code",
   "execution_count": 119,
   "metadata": {
    "executionInfo": {
     "elapsed": 15,
     "status": "aborted",
     "timestamp": 1673259366497,
     "user": {
      "displayName": "김소영",
      "userId": "03949757662449189055"
     },
     "user_tz": -540
    },
    "id": "hYDjxyZ0APGW"
   },
   "outputs": [],
   "source": [
    "def crawling(word):\n",
    "    url = insta_searching(word)\n",
    "\n",
    "    driver.get(url)\n",
    "    time.sleep(3)\n",
    "\n",
    "    select_first(driver)\n",
    "\n",
    "    results = []\n",
    "    print(results)\n",
    "\n",
    "    target = 150  # 크롤링 할 글 갯수\n",
    "\n",
    "    for i in range(target):\n",
    "        try:\n",
    "            data = get_content(driver)\n",
    "            results.append(data)\n",
    "            move_next(driver)\n",
    "        except:\n",
    "            time.sleep(2)\n",
    "            move_next(driver)\n",
    "\n",
    "    print(results)"
   ]
  },
  {
   "cell_type": "code",
   "execution_count": 120,
   "metadata": {},
   "outputs": [
    {
     "name": "stdout",
     "output_type": "stream",
     "text": [
      "[]\n",
      "['#포메라니안', '', '', '', '']\n"
     ]
    }
   ],
   "source": [
    "crawling('')"
   ]
  },
  {
   "cell_type": "code",
   "execution_count": 121,
   "metadata": {},
   "outputs": [],
   "source": [
    "import pandas as pd"
   ]
  },
  {
   "cell_type": "code",
   "execution_count": 123,
   "metadata": {},
   "outputs": [
    {
     "data": {
      "text/html": [
       "<div>\n",
       "<style scoped>\n",
       "    .dataframe tbody tr th:only-of-type {\n",
       "        vertical-align: middle;\n",
       "    }\n",
       "\n",
       "    .dataframe tbody tr th {\n",
       "        vertical-align: top;\n",
       "    }\n",
       "\n",
       "    .dataframe thead th {\n",
       "        text-align: right;\n",
       "    }\n",
       "</style>\n",
       "<table border=\"1\" class=\"dataframe\">\n",
       "  <thead>\n",
       "    <tr style=\"text-align: right;\">\n",
       "      <th></th>\n",
       "      <th>hashtag</th>\n",
       "    </tr>\n",
       "  </thead>\n",
       "  <tbody>\n",
       "    <tr>\n",
       "      <th>0</th>\n",
       "      <td>#포메라니안 #루퐁이네 #루퐁이네유튜브</td>\n",
       "    </tr>\n",
       "    <tr>\n",
       "      <th>1</th>\n",
       "      <td>#시바견 #강아지</td>\n",
       "    </tr>\n",
       "    <tr>\n",
       "      <th>2</th>\n",
       "      <td>#생일</td>\n",
       "    </tr>\n",
       "    <tr>\n",
       "      <th>3</th>\n",
       "      <td>NaN</td>\n",
       "    </tr>\n",
       "    <tr>\n",
       "      <th>4</th>\n",
       "      <td>#비숑프리제 #비숑 #개 #멍스타그램 #개스타그램 #강아지</td>\n",
       "    </tr>\n",
       "  </tbody>\n",
       "</table>\n",
       "</div>"
      ],
      "text/plain": [
       "                            hashtag\n",
       "0             #포메라니안 #루퐁이네 #루퐁이네유튜브\n",
       "1                         #시바견 #강아지\n",
       "2                               #생일\n",
       "3                               NaN\n",
       "4  #비숑프리제 #비숑 #개 #멍스타그램 #개스타그램 #강아지"
      ]
     },
     "execution_count": 123,
     "metadata": {},
     "output_type": "execute_result"
    }
   ],
   "source": [
    "df = pd.read_csv('강아지.csv')\n",
    "df.head()"
   ]
  },
  {
   "cell_type": "code",
   "execution_count": null,
   "metadata": {},
   "outputs": [],
   "source": []
  }
 ],
 "metadata": {
  "colab": {
   "authorship_tag": "ABX9TyPe+ussmNE9hcaLZVCFBm35",
   "provenance": []
  },
  "kernelspec": {
   "display_name": "flyai",
   "language": "python",
   "name": "flyai"
  },
  "language_info": {
   "codemirror_mode": {
    "name": "ipython",
    "version": 3
   },
   "file_extension": ".py",
   "mimetype": "text/x-python",
   "name": "python",
   "nbconvert_exporter": "python",
   "pygments_lexer": "ipython3",
   "version": "3.8.0"
  }
 },
 "nbformat": 4,
 "nbformat_minor": 4
}
